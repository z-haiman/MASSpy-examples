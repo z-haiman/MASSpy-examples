{
 "cells": [
  {
   "cell_type": "markdown",
   "metadata": {},
   "source": [
    "# Phosphate Trafficking\n",
    "\n",
    "Model is from Chapter 8 of Systems Biology: Simulation of Dynamic Network States.\n",
    "\n",
    "Bernhard Ø. Palsson. Systems Biology: Simulation of Dynamic Network States. Cambridge University Press, 2011. doi:10.1017/CBO9780511736179."
   ]
  },
  {
   "cell_type": "code",
   "execution_count": 1,
   "metadata": {},
   "outputs": [],
   "source": [
    "from os import path\n",
    "\n",
    "from mass import MassMetabolite, MassModel, MassReaction, UnitDefinition\n",
    "from mass.io import json"
   ]
  },
  {
   "cell_type": "markdown",
   "metadata": {},
   "source": [
    "## Model"
   ]
  },
  {
   "cell_type": "code",
   "execution_count": 2,
   "metadata": {},
   "outputs": [
    {
     "name": "stdout",
     "output_type": "stream",
     "text": [
      "Academic license - for non-commercial use only\n"
     ]
    }
   ],
   "source": [
    "model = MassModel(\"Phosphate_Trafficking\")"
   ]
  },
  {
   "cell_type": "markdown",
   "metadata": {},
   "source": [
    "## Metabolites"
   ]
  },
  {
   "cell_type": "code",
   "execution_count": 3,
   "metadata": {},
   "outputs": [],
   "source": [
    "atp_c = MassMetabolite(\n",
    "    \"atp_c\",\n",
    "    name=\"ATP\",\n",
    "    formula=\"C10H12N5O13P3\",\n",
    "    charge=-4,\n",
    "    compartment=\"c\")\n",
    "\n",
    "adp_c = MassMetabolite(\n",
    "    \"adp_c\",\n",
    "    name=\"ADP\",\n",
    "    formula=\"C10H12N5O10P2\",\n",
    "    charge=-3,\n",
    "    compartment=\"c\")\n",
    "\n",
    "amp_c = MassMetabolite(\n",
    "    \"amp_c\",\n",
    "    name=\"AMP\",\n",
    "    formula=\"C10H12N5O7P\",\n",
    "    charge=-2,\n",
    "    compartment=\"c\")\n",
    "\n",
    "b = MassMetabolite(\n",
    "    \"B\",\n",
    "    name=\"Phosphagen buffer (Free)\",\n",
    "    formula=\"[B]\",\n",
    "    charge=0,\n",
    "    compartment=\"c\")\n",
    "\n",
    "bp = MassMetabolite(\n",
    "    \"BP\",\n",
    "    name=\"Phosphagen buffer (Loaded)\",\n",
    "    formula=\"[B]-PO3\",\n",
    "    charge=-1,\n",
    "    compartment=\"c\")"
   ]
  },
  {
   "cell_type": "markdown",
   "metadata": {},
   "source": [
    "### Initial Conditions"
   ]
  },
  {
   "cell_type": "code",
   "execution_count": 4,
   "metadata": {},
   "outputs": [],
   "source": [
    "atp_c.ic = 1.7\n",
    "adp_c.ic = 0.2\n",
    "amp_c.ic = 0.2\n",
    "b.ic = 2\n",
    "bp.ic = 8"
   ]
  },
  {
   "cell_type": "markdown",
   "metadata": {},
   "source": [
    "### Compartments"
   ]
  },
  {
   "cell_type": "code",
   "execution_count": 5,
   "metadata": {},
   "outputs": [],
   "source": [
    "model.compartments = {\"c\": \"compartment\"}"
   ]
  },
  {
   "cell_type": "markdown",
   "metadata": {},
   "source": [
    "## Reactions"
   ]
  },
  {
   "cell_type": "code",
   "execution_count": 6,
   "metadata": {},
   "outputs": [
    {
     "data": {
      "text/html": [
       "\n",
       "            <table>\n",
       "                <tr>\n",
       "                    <td><strong>Name</strong></td><td>Phosphate_Trafficking</td>\n",
       "                </tr><tr>\n",
       "                    <td><strong>Memory address</strong></td><td>0x011d123c90</td>\n",
       "                </tr><tr>\n",
       "                    <td><strong>Stoichiometric Matrix</strong></td>\n",
       "                    <td>5x6</td>\n",
       "                </tr><tr>\n",
       "                    <td><strong>Matrix Rank</strong></td>\n",
       "                    <td>4</td>\n",
       "                </tr><tr>\n",
       "                    <td><strong>Number of metabolites</strong></td>\n",
       "                    <td>5</td>\n",
       "                </tr><tr>\n",
       "                    <td><strong>Initial conditions defined</strong></td>\n",
       "                    <td>5/5</td>\n",
       "                </tr><tr>\n",
       "                    <td><strong>Number of reactions</strong></td>\n",
       "                    <td>6</td>\n",
       "                </tr><tr>\n",
       "                    <td><strong>Number of genes</strong></td>\n",
       "                    <td>0</td>\n",
       "                </tr><tr>\n",
       "                    <td><strong>Number of enzyme modules</strong></td>\n",
       "                    <td>0</td>\n",
       "                </tr><tr>\n",
       "                    <td><strong>Number of groups</strong></td>\n",
       "                    <td>0</td>\n",
       "                </tr><tr>\n",
       "                    <td><strong>Objective expression</strong></td>\n",
       "                    <td>0</td>\n",
       "                </tr><tr>\n",
       "                    <td><strong>Compartments</strong></td>\n",
       "                    <td>compartment</td>\n",
       "                </tr>\n",
       "            </table>\n",
       "        "
      ],
      "text/plain": [
       "<MassModel Phosphate_Trafficking at 0x11d123c90>"
      ]
     },
     "execution_count": 6,
     "metadata": {},
     "output_type": "execute_result"
    }
   ],
   "source": [
    "distr = MassReaction(\"distr\", name=\"Distribution\", reversible=True)\n",
    "use = MassReaction(\"use\", name=\"ATP Utilization\", reversible=False)\n",
    "form = MassReaction(\"form\", name=\"ATP Formation\", reversible=False)\n",
    "buffer = MassReaction(\"buffer\", name=\"ATP Buffering\")\n",
    "\n",
    "distr.add_metabolites({\n",
    "    adp_c: -2,\n",
    "    atp_c: 1,\n",
    "    amp_c: 1})\n",
    "\n",
    "use.add_metabolites({\n",
    "    atp_c: -1,\n",
    "    adp_c: 1})\n",
    "\n",
    "form.add_metabolites({\n",
    "    adp_c: -1,\n",
    "    atp_c: 1})\n",
    "\n",
    "buffer.add_metabolites({\n",
    "    b: -1,\n",
    "    atp_c: -1,\n",
    "    adp_c: 1,\n",
    "    bp: 1})\n",
    "\n",
    "model.add_reactions([distr, use, form, buffer])\n",
    "\n",
    "amp_drain = model.add_boundary(\n",
    "    amp_c,\n",
    "    boundary_type=\"demand\",\n",
    "    reaction_id=\"amp_drain\")\n",
    "\n",
    "amp_in = model.add_boundary(\n",
    "    amp_c,\n",
    "    boundary_type=\"demand\",\n",
    "    reaction_id=\"amp_in\")\n",
    "amp_in.reverse_stoichiometry(inplace=True)\n",
    "\n",
    "model"
   ]
  },
  {
   "cell_type": "markdown",
   "metadata": {},
   "source": [
    "### Parameters and Rates"
   ]
  },
  {
   "cell_type": "code",
   "execution_count": 7,
   "metadata": {},
   "outputs": [],
   "source": [
    "distr.kf = 1000\n",
    "distr.Keq = 1\n",
    "\n",
    "use.kf = 6.25\n",
    "\n",
    "form.kf = 25\n",
    "\n",
    "buffer.kf = 1000\n",
    "buffer.Keq = 1\n",
    "\n",
    "amp_drain.kf = 0.3\n",
    "\n",
    "model.add_custom_rate(amp_in, custom_rate=\"b1\", custom_parameters={\"b1\": 0.03})"
   ]
  },
  {
   "cell_type": "markdown",
   "metadata": {},
   "source": [
    "## Units"
   ]
  },
  {
   "cell_type": "code",
   "execution_count": 8,
   "metadata": {},
   "outputs": [],
   "source": [
    "concentration_unit = UnitDefinition(id=\"mM\", name=\"Millimolar\")\n",
    "concentration_unit.create_unit(kind=\"mole\", exponent=1, scale=-3, multiplier=1)\n",
    "concentration_unit.create_unit(kind=\"liter\", exponent=-1, scale=1, multiplier=1)\n",
    "\n",
    "time_unit = UnitDefinition(id=\"min\", name=\"Minute\")\n",
    "time_unit.create_unit(kind=\"second\", exponent=1, scale=1, multiplier=60)\n",
    "model.add_units([concentration_unit, time_unit])"
   ]
  },
  {
   "cell_type": "markdown",
   "metadata": {},
   "source": [
    "## Export"
   ]
  },
  {
   "cell_type": "code",
   "execution_count": 9,
   "metadata": {
    "scrolled": true
   },
   "outputs": [],
   "source": [
    "json.save_json_model(\n",
    "    mass_model=model,\n",
    "    filename=path.realpath(path.join(\"models\", \"Phosphate_Trafficking.json\")))"
   ]
  }
 ],
 "metadata": {
  "kernelspec": {
   "display_name": "Python 3",
   "language": "python",
   "name": "python3"
  },
  "language_info": {
   "codemirror_mode": {
    "name": "ipython",
    "version": 3
   },
   "file_extension": ".py",
   "mimetype": "text/x-python",
   "name": "python",
   "nbconvert_exporter": "python",
   "pygments_lexer": "ipython3",
   "version": "3.7.4"
  }
 },
 "nbformat": 4,
 "nbformat_minor": 2
}
