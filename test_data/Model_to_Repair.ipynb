{
 "cells": [
  {
   "cell_type": "markdown",
   "metadata": {},
   "source": [
    "# Model to Repair\n",
    "\n",
    "Load a fully working textbook model and create issues that can be identified using the `qcqa` submodule functions. Model is used strictly for testing purposes and demonstrating the utility of the `qcqa` submodule "
   ]
  },
  {
   "cell_type": "code",
   "execution_count": 1,
   "metadata": {},
   "outputs": [],
   "source": [
    "from os import path\n",
    "\n",
    "from mass import MassConfiguration\n",
    "from mass.io import json\n",
    "from mass.util.qcqa import qcqa_model"
   ]
  },
  {
   "cell_type": "markdown",
   "metadata": {},
   "source": [
    "## Load model"
   ]
  },
  {
   "cell_type": "code",
   "execution_count": 2,
   "metadata": {
    "scrolled": true
   },
   "outputs": [
    {
     "name": "stdout",
     "output_type": "stream",
     "text": [
      "Academic license - for non-commercial use only\n"
     ]
    }
   ],
   "source": [
    "model = json.load_json_model(\n",
    "    filename=path.realpath(path.join(\"../models/SB2\", \"textbook.json\")))"
   ]
  },
  {
   "cell_type": "markdown",
   "metadata": {},
   "source": [
    "## Break model\n",
    "### Parameters"
   ]
  },
  {
   "cell_type": "code",
   "execution_count": 3,
   "metadata": {},
   "outputs": [],
   "source": [
    "model.reactions.PGI.kf = None\n",
    "model.reactions.PGI.Keq = None\n",
    "model.reactions.PGI.kr = None\n",
    "model.reactions.PGK.kf = None\n",
    "model.reactions.PGM.Keq = None"
   ]
  },
  {
   "cell_type": "code",
   "execution_count": 4,
   "metadata": {},
   "outputs": [],
   "source": [
    "model.custom_parameters[\"Keq_PFK_A\"] = None"
   ]
  },
  {
   "cell_type": "markdown",
   "metadata": {},
   "source": [
    "### Concentrations"
   ]
  },
  {
   "cell_type": "code",
   "execution_count": 5,
   "metadata": {},
   "outputs": [],
   "source": [
    "model.metabolites.glc__D_c.initial_condition = None\n",
    "model.boundary_conditions[\"h2o_b\"] = None"
   ]
  },
  {
   "cell_type": "markdown",
   "metadata": {},
   "source": [
    "### Fluxes"
   ]
  },
  {
   "cell_type": "code",
   "execution_count": 6,
   "metadata": {},
   "outputs": [],
   "source": [
    "model.reactions.GAPD.steady_state_flux = None"
   ]
  },
  {
   "cell_type": "markdown",
   "metadata": {},
   "source": [
    "### Superfluous"
   ]
  },
  {
   "cell_type": "code",
   "execution_count": 7,
   "metadata": {},
   "outputs": [],
   "source": [
    "model.reactions.PYK.kr = model.reactions.PYK.kf / model.reactions.PYK.Keq\n",
    "model.reactions.HEX1.kr = model.reactions.HEX1.kf / model.reactions.HEX1.Keq + 10"
   ]
  },
  {
   "cell_type": "markdown",
   "metadata": {},
   "source": [
    "### Elemental"
   ]
  },
  {
   "cell_type": "code",
   "execution_count": 8,
   "metadata": {},
   "outputs": [],
   "source": [
    "model.metabolites.g6p_c.formula = 'C6H8O5'"
   ]
  },
  {
   "cell_type": "markdown",
   "metadata": {},
   "source": [
    "## QA model"
   ]
  },
  {
   "cell_type": "code",
   "execution_count": 9,
   "metadata": {},
   "outputs": [
    {
     "name": "stdout",
     "output_type": "stream",
     "text": [
      "╒═══════════════════════════════════════════════════════════════╕\n",
      "│ MODEL ID: RBC_PFK                                             │\n",
      "│ SIMULATABLE: False                                            │\n",
      "│ PARAMETERS NUMERICALY CONSISTENT: False                       │\n",
      "╞═══════════════════════════════════════════════════════════════╡\n",
      "│ ============================================================= │\n",
      "│                      MISSING PARAMETERS                       │\n",
      "│ ============================================================= │\n",
      "│ Reaction Parameters    Custom Parameters    S.S. Fluxes       │\n",
      "│ ---------------------  -------------------  -------------     │\n",
      "│ PGI: Keq; kf           PFK_R01: Keq_PFK_A   GAPD              │\n",
      "│ PGK: kf                PFK_R11: Keq_PFK_A                     │\n",
      "│ PGM: Keq               PFK_R21: Keq_PFK_A                     │\n",
      "│                        PFK_R31: Keq_PFK_A                     │\n",
      "│                        PFK_R41: Keq_PFK_A                     │\n",
      "│ ============================================================= │\n",
      "├───────────────────────────────────────────────────────────────┤\n",
      "│ ============================================================= │\n",
      "│                    MISSING CONCENTRATIONS                     │\n",
      "│ ============================================================= │\n",
      "│ Initial Conditions               Boundary Conditions          │\n",
      "│ -------------------------------  ---------------------        │\n",
      "│ glc__D_c (in HEX1, SK_glc__D_c)  h2o_b (in SK_h2o_c)          │\n",
      "│ ============================================================= │\n",
      "├───────────────────────────────────────────────────────────────┤\n",
      "│ ============================================================= │\n",
      "│                      CONSISTENCY CHECKS                       │\n",
      "│ ============================================================= │\n",
      "│ Superfluous Parameters    Elemental                           │\n",
      "│ ------------------------  ---------------------------------   │\n",
      "│ HEX1: Inconsistent        HEX1: {H: -3.0; O: -4.0; P: -1.0}   │\n",
      "│ PYK: Consistent           PGI: {H: 3.0; O: 4.0; P: 1.0}       │\n",
      "│                           G6PDH2r: {H: 3.0; O: 4.0; P: 1.0}   │\n",
      "│                           DM_nadh: {charge: 2.0}              │\n",
      "│                           GSHR: {charge: 2.0}                 │\n",
      "│ ============================================================= │\n",
      "╘═══════════════════════════════════════════════════════════════╛\n"
     ]
    }
   ],
   "source": [
    "qcqa_model(\n",
    "    model,\n",
    "    parameters=True,\n",
    "    concentrations=True,\n",
    "    fluxes=True,\n",
    "    superfluous=True,\n",
    "    elemental=True,\n",
    "    simulation_only=True)"
   ]
  },
  {
   "cell_type": "markdown",
   "metadata": {},
   "source": [
    "## Save model"
   ]
  },
  {
   "cell_type": "code",
   "execution_count": 10,
   "metadata": {},
   "outputs": [],
   "source": [
    "json.save_json_model(\n",
    "    mass_model=model,\n",
    "    filename=path.realpath(path.join(\"models\", \"Model_to_Repair.json\")))"
   ]
  }
 ],
 "metadata": {
  "kernelspec": {
   "display_name": "Python 3",
   "language": "python",
   "name": "python3"
  },
  "language_info": {
   "codemirror_mode": {
    "name": "ipython",
    "version": 3
   },
   "file_extension": ".py",
   "mimetype": "text/x-python",
   "name": "python",
   "nbconvert_exporter": "python",
   "pygments_lexer": "ipython3",
   "version": "3.7.4"
  }
 },
 "nbformat": 4,
 "nbformat_minor": 2
}
