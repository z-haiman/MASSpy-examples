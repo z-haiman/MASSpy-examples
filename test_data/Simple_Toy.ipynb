{
 "cells": [
  {
   "cell_type": "markdown",
   "metadata": {},
   "source": [
    "# Simple Toy Model\n",
    "\n",
    "Model is from Chapter 3 of Systems Biology: Simulation of Dynamic Network States.\n",
    "\n",
    "Bernhard Ø. Palsson. Systems Biology: Simulation of Dynamic Network States. Cambridge University Press, 2011. doi:10.1017/CBO9780511736179."
   ]
  },
  {
   "cell_type": "code",
   "execution_count": 1,
   "metadata": {},
   "outputs": [],
   "source": [
    "from os import path\n",
    "\n",
    "from mass import MassMetabolite, MassModel, MassReaction, Simulation\n",
    "from mass.io import json\n",
    "from mass.visualization import plot_time_profile"
   ]
  },
  {
   "cell_type": "markdown",
   "metadata": {},
   "source": [
    "## Model"
   ]
  },
  {
   "cell_type": "code",
   "execution_count": 2,
   "metadata": {},
   "outputs": [
    {
     "name": "stdout",
     "output_type": "stream",
     "text": [
      "Academic license - for non-commercial use only\n"
     ]
    }
   ],
   "source": [
    "model = MassModel('Simple_Toy')"
   ]
  },
  {
   "cell_type": "markdown",
   "metadata": {},
   "source": [
    "## Metabolites"
   ]
  },
  {
   "cell_type": "code",
   "execution_count": 3,
   "metadata": {},
   "outputs": [],
   "source": [
    "x1 = MassMetabolite('x1')\n",
    "x2 = MassMetabolite('x2')\n",
    "x3 = MassMetabolite('x3')\n",
    "x4 = MassMetabolite('x4')"
   ]
  },
  {
   "cell_type": "markdown",
   "metadata": {},
   "source": [
    "### Initial Conditions"
   ]
  },
  {
   "cell_type": "code",
   "execution_count": 4,
   "metadata": {},
   "outputs": [],
   "source": [
    "x1.ic = 1\n",
    "x2.ic = 0\n",
    "x3.ic = 0\n",
    "x4.ic = 0"
   ]
  },
  {
   "cell_type": "markdown",
   "metadata": {},
   "source": [
    "## Reactions"
   ]
  },
  {
   "cell_type": "code",
   "execution_count": 5,
   "metadata": {},
   "outputs": [],
   "source": [
    "v1 = MassReaction('v1')\n",
    "v2 = MassReaction('v2')\n",
    "v3 = MassReaction('v3', reversible=False)\n",
    "\n",
    "v1.add_metabolites({x1 : -1, x2 : 1})\n",
    "v2.add_metabolites({x2 : -1, x3 : 1})\n",
    "v3.add_metabolites({x3 : -1, x4 : 1})\n",
    "\n",
    "model.add_reactions([v1, v2, v3])"
   ]
  },
  {
   "cell_type": "markdown",
   "metadata": {},
   "source": [
    "### Parameters"
   ]
  },
  {
   "cell_type": "code",
   "execution_count": 6,
   "metadata": {},
   "outputs": [],
   "source": [
    "v1.kf = 1\n",
    "v2.kf = 0.01\n",
    "v3.kf = 0.0001\n",
    "\n",
    "v1.Keq = 1\n",
    "v2.Keq = 1"
   ]
  },
  {
   "cell_type": "markdown",
   "metadata": {},
   "source": [
    "## Simulation"
   ]
  },
  {
   "cell_type": "code",
   "execution_count": 7,
   "metadata": {},
   "outputs": [
    {
     "name": "stderr",
     "output_type": "stream",
     "text": [
      "\u001b[93mWARNING:\u001b[0m \u001b[93mNo compartments found in model. Therefore creating compartment 'compartment' for entire model.\u001b[0m\n"
     ]
    },
    {
     "name": "stdout",
     "output_type": "stream",
     "text": [
      "Successfully loaded MassModel 'Simple_Toy' into RoadRunner.\n",
      "Getting time points\n",
      "Setting simulation values for 'Simple_Toy'\n",
      "Simulating 'Simple_Toy'\n",
      "Simulation for 'Simple_Toy' successful\n",
      "Adding 'Simple_Toy' simulation solutions to output\n",
      "Updating stored solutions\n"
     ]
    }
   ],
   "source": [
    "sim = Simulation(model, verbose=True)\n",
    "\n",
    "conc_sol, flux_sol = sim.simulate(model, time=(0, 1e6), verbose=True)"
   ]
  },
  {
   "cell_type": "code",
   "execution_count": 8,
   "metadata": {},
   "outputs": [
    {
     "data": {
      "image/png": "[encoded data removed]",
      "text/plain": [
       "<Figure size 432x288 with 1 Axes>"
      ]
     },
     "metadata": {
      "needs_background": "light"
     },
     "output_type": "display_data"
    }
   ],
   "source": [
    "plot_time_profile(\n",
    "    conc_sol, legend=\"right outside\", plot_function=\"semilogx\",\n",
    "    xlabel=\"Time\", ylabel=\"Concentration\", \n",
    "    title=(\"Concentration Solutions\", {\"size\": \"large\"}));"
   ]
  },
  {
   "cell_type": "markdown",
   "metadata": {},
   "source": [
    "## Export"
   ]
  },
  {
   "cell_type": "code",
   "execution_count": 9,
   "metadata": {},
   "outputs": [],
   "source": [
    "json.save_json_model(\n",
    "    mass_model=model,\n",
    "    filename=path.realpath(path.join(\"models\", \"Simple_Toy.json\")))"
   ]
  }
 ],
 "metadata": {
  "kernelspec": {
   "display_name": "Python 3",
   "language": "python",
   "name": "python3"
  },
  "language_info": {
   "codemirror_mode": {
    "name": "ipython",
    "version": 3
   },
   "file_extension": ".py",
   "mimetype": "text/x-python",
   "name": "python",
   "nbconvert_exporter": "python",
   "pygments_lexer": "ipython3",
   "version": "3.7.4"
  }
 },
 "nbformat": 4,
 "nbformat_minor": 2
}
