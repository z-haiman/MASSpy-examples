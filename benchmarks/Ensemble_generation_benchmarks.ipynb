{
 "cells": [
  {
   "cell_type": "code",
   "execution_count": 1,
   "metadata": {},
   "outputs": [
    {
     "name": "stdout",
     "output_type": "stream",
     "text": [
      "Academic license - for non-commercial use only\n"
     ]
    }
   ],
   "source": [
    "# Disable gurobi logging output for this notebook.\n",
    "try:\n",
    "    import gurobipy\n",
    "    gurobipy.setParam(\"OutputFlag\", 0)\n",
    "except ImportError:\n",
    "    pass\n",
    "\n",
    "import logging\n",
    "logging.getLogger(\"\").setLevel(\"CRITICAL\")\n",
    "\n",
    "# Configure roadrunner to allow for more output rows\n",
    "import roadrunner\n",
    "roadrunner.Config.setValue(\n",
    "    roadrunner.Config.MAX_OUTPUT_ROWS, 1e6)\n",
    "\n",
    "from cobra.sampling import sample\n",
    "\n",
    "import mass.test\n",
    "from mass.thermo import ConcSolver, sample_concentrations\n",
    "from mass.simulation import ensemble, generate_ensemble_of_models\n",
    "\n",
    "# Load the model\n",
    "reference_model = mass.test.create_test_model(\"Glycolysis\")"
   ]
  },
  {
   "cell_type": "code",
   "execution_count": 2,
   "metadata": {},
   "outputs": [],
   "source": [
    "for reaction in reference_model.reactions:\n",
    "    flux = reaction.steady_state_flux\n",
    "    reaction.bounds = sorted([\n",
    "        round(flux * 0.5, 12), round(flux * 1.5, 12)])\n",
    "    \n",
    "flux_samples = sample(reference_model, n=10, seed=25)"
   ]
  },
  {
   "cell_type": "code",
   "execution_count": 3,
   "metadata": {},
   "outputs": [],
   "source": [
    "conc_solver = ConcSolver(\n",
    "    reference_model,\n",
    "    excluded_metabolites=[\"h_c\", \"h2o_c\"],\n",
    "    equilibrium_reactions=[\"ADK1\"],\n",
    "    constraint_buffer=1e-7)\n",
    "\n",
    "conc_solver.setup_sampling_problem(\n",
    "    conc_percent_deviation=0.8,\n",
    "    Keq_percent_deviation=0)\n",
    "\n",
    "conc_samples = sample_concentrations(conc_solver, n=8, seed=25)\n",
    "\n",
    "reactions_to_check_percs = [\n",
    "    r.id for r in reference_model.reactions\n",
    "    if r not in reference_model.boundary]"
   ]
  },
  {
   "cell_type": "code",
   "execution_count": 4,
   "metadata": {},
   "outputs": [
    {
     "name": "stderr",
     "output_type": "stream",
     "text": [
      "mass/simulation/simulation.py:820 \u001b[1;31mUserWarning\u001b[0m: Unable to find a steady state for one or more models. Check the log for more details.\n"
     ]
    },
    {
     "name": "stdout",
     "output_type": "stream",
     "text": [
      "CPU times: user 2min 26s, sys: 3.2 s, total: 2min 29s\n",
      "Wall time: 3min 25s\n"
     ]
    }
   ],
   "source": [
    "%%time\n",
    "flux_models = ensemble.create_models_from_flux_data(\n",
    "    reference_model, data=flux_samples)\n",
    "\n",
    "conc_models = []\n",
    "for ref_model in flux_models:\n",
    "    conc_models += ensemble.create_models_from_concentration_data(\n",
    "        ref_model, data=conc_samples)\n",
    "\n",
    "positive, negative = ensemble.ensure_positive_percs(\n",
    "    models=conc_models, reactions=reactions_to_check_percs, \n",
    "    update_values=True)\n",
    "\n",
    "feasible, infeasible_0 = ensemble.ensure_steady_state(\n",
    "    models=positive, strategy=\"simulate\",\n",
    "    update_values=True)\n",
    "\n",
    "feasible, infeasible_1 = ensemble.ensure_steady_state(\n",
    "    models=feasible, strategy=\"simulate\",\n",
    "    perturbations={\"kf_ATPM\": \"kf_ATPM * 1.5\"},\n",
    "    update_values=False)"
   ]
  },
  {
   "cell_type": "code",
   "execution_count": 5,
   "metadata": {},
   "outputs": [
    {
     "name": "stdout",
     "output_type": "stream",
     "text": [
      "Total models generated: 80\n",
      "Infeasible, negative PERCs: 0\n",
      "Infeasible, no steady state found: 0\n",
      "Infeasible, no steady state with pertubration 1: 5\n"
     ]
    }
   ],
   "source": [
    "print(\"Total models generated: {0}\".format(\n",
    "    len(conc_models)))\n",
    "print(\"Infeasible, negative PERCs: {0}\".format(\n",
    "    len(negative)))\n",
    "print(\"Infeasible, no steady state found: {0}\".format(\n",
    "    len(infeasible_0)))\n",
    "print(\"Infeasible, no steady state with pertubration 1: {0}\".format(\n",
    "    len(infeasible_1)))"
   ]
  },
  {
   "cell_type": "code",
   "execution_count": 6,
   "metadata": {},
   "outputs": [
    {
     "name": "stderr",
     "output_type": "stream",
     "text": [
      "mass/simulation/simulation.py:820 \u001b[1;31mUserWarning\u001b[0m: Unable to find a steady state for one or more models. Check the log for more details.\n"
     ]
    },
    {
     "name": "stdout",
     "output_type": "stream",
     "text": [
      "Total models generated: 80\n",
      "Feasible: 75\n",
      "Infeasible, negative PERCs: 0\n",
      "Infeasible, no steady state found: 0\n",
      "Infeasible, no steady state with pertubration 1: 5\n",
      "CPU times: user 37.3 s, sys: 1.21 s, total: 38.5 s\n",
      "Wall time: 56.2 s\n"
     ]
    }
   ],
   "source": [
    "%%time\n",
    "\n",
    "feasible, infeasible = generate_ensemble_of_models(\n",
    "    reference_model=reference_model, \n",
    "    flux_data=flux_samples,\n",
    "    conc_data=conc_samples,\n",
    "    ensure_positive_percs=reactions_to_check_percs,\n",
    "    strategy=\"simulate\",\n",
    "    perturbations={\"kf_ATPM\": \"kf_ATPM * 1.5\"},\n",
    "    return_infeasible=True)"
   ]
  }
 ],
 "metadata": {
  "kernelspec": {
   "display_name": "Python 3",
   "language": "python",
   "name": "python3"
  },
  "language_info": {
   "codemirror_mode": {
    "name": "ipython",
    "version": 3
   },
   "file_extension": ".py",
   "mimetype": "text/x-python",
   "name": "python",
   "nbconvert_exporter": "python",
   "pygments_lexer": "ipython3",
   "version": "3.7.4"
  }
 },
 "nbformat": 4,
 "nbformat_minor": 2
}
