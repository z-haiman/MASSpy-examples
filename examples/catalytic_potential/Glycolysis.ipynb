{
 "cells": [
  {
   "cell_type": "markdown",
   "metadata": {},
   "source": [
    "# Glycolysis"
   ]
  },
  {
   "cell_type": "code",
   "execution_count": 1,
   "metadata": {},
   "outputs": [
    {
     "name": "stdout",
     "output_type": "stream",
     "text": [
      "MASSpy version: 0.1.0a42\n"
     ]
    }
   ],
   "source": [
    "from os import path\n",
    "\n",
    "from cobra import DictList\n",
    "\n",
    "import matplotlib.pyplot as plt\n",
    "\n",
    "import mass\n",
    "from mass import (\n",
    "    MassConfiguration, MassMetabolite, MassModel,\n",
    "    MassReaction, Simulation, UnitDefinition)\n",
    "from mass.io import json\n",
    "from mass.util import qcqa_model\n",
    "\n",
    "mass_config = MassConfiguration()\n",
    "\n",
    "print(\"MASSpy version: \" + mass.__version__)"
   ]
  },
  {
   "cell_type": "markdown",
   "metadata": {},
   "source": [
    "## Model Construction "
   ]
  },
  {
   "cell_type": "code",
   "execution_count": 2,
   "metadata": {},
   "outputs": [
    {
     "name": "stdout",
     "output_type": "stream",
     "text": [
      "Academic license - for non-commercial use only\n"
     ]
    }
   ],
   "source": [
    "glycolysis = MassModel(\"Glycolysis\")"
   ]
  },
  {
   "cell_type": "markdown",
   "metadata": {},
   "source": [
    "### Metabolites"
   ]
  },
  {
   "cell_type": "code",
   "execution_count": 3,
   "metadata": {},
   "outputs": [],
   "source": [
    "glc__D_c = MassMetabolite(\n",
    "    \"glc__D_c\",\n",
    "    name=\"D-Glucose\",\n",
    "    formula=\"C6H12O6\",\n",
    "    charge=0,\n",
    "    compartment=\"c\",\n",
    "    fixed=False)\n",
    "\n",
    "g6p_c = MassMetabolite(\n",
    "    \"g6p_c\",\n",
    "    name=\"D-Glucose 6-phosphate\",\n",
    "    formula=\"C6H11O9P\",\n",
    "    charge=-2,\n",
    "    compartment=\"c\",\n",
    "    fixed=False)\n",
    "\n",
    "f6p_c = MassMetabolite(\n",
    "    \"f6p_c\",\n",
    "    name=\"D-Fructose 6-phosphate\",\n",
    "    formula=\"C6H11O9P\",\n",
    "    charge=-2,\n",
    "    compartment=\"c\",\n",
    "    fixed=False)\n",
    "\n",
    "fdp_c = MassMetabolite(\n",
    "    \"fdp_c\",\n",
    "    name=\"D-Fructose 1,6-bisphosphate\",\n",
    "    formula=\"C6H10O12P2\",\n",
    "    charge=-4,\n",
    "    compartment=\"c\",\n",
    "    fixed=False)\n",
    "\n",
    "dhap_c = MassMetabolite(\n",
    "    \"dhap_c\",\n",
    "    name=\"Dihydroxyacetone phosphate\",\n",
    "    formula=\"C3H5O6P\",\n",
    "    charge=-2,\n",
    "    compartment=\"c\",\n",
    "    fixed=False)\n",
    "\n",
    "g3p_c = MassMetabolite(\n",
    "    \"g3p_c\",\n",
    "    name=\"Glyceraldehyde 3-phosphate\",\n",
    "    formula=\"C3H5O6P\",\n",
    "    charge=-2,\n",
    "    compartment=\"c\",\n",
    "    fixed=False)\n",
    "\n",
    "_13dpg_c = MassMetabolite(\n",
    "    \"_13dpg_c\",\n",
    "    name=\"3-Phospho-D-glyceroyl phosphate\",\n",
    "    formula=\"C3H4O10P2\",\n",
    "    charge=-4,\n",
    "    compartment=\"c\",\n",
    "    fixed=False)\n",
    "\n",
    "_3pg_c = MassMetabolite(\n",
    "    \"_3pg_c\",\n",
    "    name=\"3-Phospho-D-glycerate\",\n",
    "    formula=\"C3H4O7P\",\n",
    "    charge=-3,\n",
    "    compartment=\"c\",\n",
    "    fixed=False)\n",
    "\n",
    "_2pg_c = MassMetabolite(\n",
    "    \"_2pg_c\",\n",
    "    name=\"D-Glycerate 2-phosphate\",\n",
    "    formula=\"C3H4O7P\",\n",
    "    charge=-3,\n",
    "    compartment=\"c\",\n",
    "    fixed=False)\n",
    "\n",
    "pep_c = MassMetabolite(\n",
    "    \"pep_c\",\n",
    "    name=\"Phosphoenolpyruvate\",\n",
    "    formula=\"C3H2O6P\",\n",
    "    charge=-3,\n",
    "    compartment=\"c\",\n",
    "    fixed=False)\n",
    "\n",
    "pyr_c = MassMetabolite(\n",
    "    \"pyr_c\",\n",
    "    name=\"Pyruvate\",\n",
    "    formula=\"C3H3O3\",\n",
    "    charge=-1,\n",
    "    compartment=\"c\",\n",
    "    fixed=False)\n",
    "\n",
    "lac__L_c = MassMetabolite(\n",
    "    \"lac__L_c\",\n",
    "    name=\"L-Lactate\",\n",
    "    formula=\"C3H5O3\",\n",
    "    charge=-1,\n",
    "    compartment=\"c\",\n",
    "    fixed=False)\n",
    "\n",
    "nad_c = MassMetabolite(\n",
    "    \"nad_c\",\n",
    "    name=\"Nicotinamide adenine dinucleotide\",\n",
    "    formula=\"[NAD]-C21H26N7O14P2\",\n",
    "    charge=-1,\n",
    "    compartment=\"c\",\n",
    "    fixed=False)\n",
    "\n",
    "nadh_c = MassMetabolite(\n",
    "    \"nadh_c\",\n",
    "    name=\"Nicotinamide adenine dinucleotide - reduced\",\n",
    "    formula=\"[NAD]-C21H27N7O14P2\",\n",
    "    charge=-2,\n",
    "    compartment=\"c\",\n",
    "    fixed=False)\n",
    "\n",
    "atp_c = MassMetabolite(\n",
    "    \"atp_c\",\n",
    "    name=\"ATP\",\n",
    "    formula=\"C10H12N5O13P3\",\n",
    "    charge=-4,\n",
    "    compartment=\"c\",\n",
    "    fixed=False)\n",
    "\n",
    "adp_c = MassMetabolite(\n",
    "    \"adp_c\",\n",
    "    name=\"ADP\",\n",
    "    formula=\"C10H12N5O10P2\",\n",
    "    charge=-3,\n",
    "    compartment=\"c\",\n",
    "    fixed=False)\n",
    "\n",
    "amp_c = MassMetabolite(\n",
    "    \"amp_c\",\n",
    "    name=\"AMP\",\n",
    "    formula=\"C10H12N5O7P\",\n",
    "    charge=-2,\n",
    "    compartment=\"c\",\n",
    "    fixed=False)\n",
    "\n",
    "pi_c = MassMetabolite(\n",
    "    \"pi_c\",\n",
    "    name=\"Phosphate\",\n",
    "    formula=\"HPO4\",\n",
    "    charge=-2,\n",
    "    compartment=\"c\",\n",
    "    fixed=False)\n",
    "\n",
    "h_c = MassMetabolite(\n",
    "    \"h_c\",\n",
    "    name=\"H+\",\n",
    "    formula=\"H\",\n",
    "    charge=1,\n",
    "    compartment=\"c\",\n",
    "    fixed=False)\n",
    "\n",
    "h2o_c = MassMetabolite(\n",
    "    \"h2o_c\",\n",
    "    name=\"H2O\",\n",
    "    formula=\"H2O\",\n",
    "    charge=0,\n",
    "    compartment=\"c\",\n",
    "    fixed=False)"
   ]
  },
  {
   "cell_type": "markdown",
   "metadata": {},
   "source": [
    "### Reactions"
   ]
  },
  {
   "cell_type": "code",
   "execution_count": 4,
   "metadata": {},
   "outputs": [],
   "source": [
    "HEX1 = MassReaction(\n",
    "    \"HEX1\",\n",
    "    name=\"Hexokinase (D-glucose:ATP)\",\n",
    "    subsystem=glycolysis.id,\n",
    "    reversible=True)\n",
    "HEX1.add_metabolites({\n",
    "    glc__D_c: -1,\n",
    "    atp_c: -1,\n",
    "    adp_c: 1,\n",
    "    g6p_c: 1,\n",
    "    h_c: 1})\n",
    "\n",
    "PGI = MassReaction(\n",
    "    \"PGI\",\n",
    "    name=\"Glucose-6-phosphate isomerase\",\n",
    "    subsystem=glycolysis.id,\n",
    "    reversible=True)\n",
    "PGI.add_metabolites({\n",
    "    g6p_c: -1,\n",
    "    f6p_c: 1})\n",
    "\n",
    "PFK = MassReaction(\n",
    "    \"PFK\",\n",
    "    name=\"Phosphofructokinase\",\n",
    "    subsystem=glycolysis.id,\n",
    "    reversible=True)\n",
    "PFK.add_metabolites({\n",
    "    f6p_c: -1,\n",
    "    atp_c: -1,\n",
    "    fdp_c: 1,\n",
    "    adp_c: 1,\n",
    "    h_c: 1})\n",
    "\n",
    "FBA = MassReaction(\n",
    "    \"FBA\",\n",
    "    name=\"Fructose-bisphosphate aldolase\",\n",
    "    subsystem=glycolysis.id,\n",
    "    reversible=True)\n",
    "FBA.add_metabolites({\n",
    "    fdp_c: -1,\n",
    "    dhap_c: 1,\n",
    "    g3p_c: 1})\n",
    "\n",
    "TPI = MassReaction(\n",
    "    \"TPI\",\n",
    "    name=\"Triose-phosphate isomerase\",\n",
    "    subsystem=glycolysis.id,\n",
    "    reversible=True)\n",
    "TPI.add_metabolites({\n",
    "    dhap_c: -1,\n",
    "    g3p_c: 1})\n",
    "\n",
    "GAPD = MassReaction(\n",
    "    \"GAPD\",\n",
    "    name=\"Glyceraldehyde-3-phosphate dehydrogenase\",\n",
    "    subsystem=glycolysis.id,\n",
    "    reversible=True)\n",
    "GAPD.add_metabolites({\n",
    "    g3p_c: -1,\n",
    "    nad_c: -1,\n",
    "    pi_c: -1,\n",
    "    _13dpg_c: 1,\n",
    "    h_c: 1,\n",
    "    nadh_c: 1})\n",
    "\n",
    "PGK = MassReaction(\n",
    "    \"PGK\",\n",
    "    name=\"Phosphoglycerate kinase\",\n",
    "    subsystem=glycolysis.id,\n",
    "    reversible=True)\n",
    "PGK.add_metabolites({\n",
    "    _13dpg_c: -1,\n",
    "    adp_c: -1,\n",
    "    _3pg_c: 1,\n",
    "    atp_c: 1})\n",
    "\n",
    "PGM = MassReaction(\n",
    "    \"PGM\",\n",
    "    name=\"Phosphoglycerate mutase\",\n",
    "    subsystem=glycolysis.id,\n",
    "    reversible=True)\n",
    "PGM.add_metabolites({\n",
    "    _3pg_c: -1,\n",
    "    _2pg_c: 1})\n",
    "\n",
    "ENO = MassReaction(\n",
    "    \"ENO\",\n",
    "    name=\"Enolase\",\n",
    "    subsystem=glycolysis.id,\n",
    "    reversible=True)\n",
    "ENO.add_metabolites({\n",
    "    _2pg_c: -1,\n",
    "    h2o_c: 1,\n",
    "    pep_c: 1})\n",
    "\n",
    "PYK = MassReaction(\n",
    "    \"PYK\",\n",
    "    name=\"Pyruvate kinase\",\n",
    "    subsystem=glycolysis.id,\n",
    "    reversible=True)\n",
    "PYK.add_metabolites({\n",
    "    pep_c: -1,\n",
    "    h_c: -1,\n",
    "    adp_c: -1,\n",
    "    atp_c: 1,\n",
    "    pyr_c: 1})\n",
    "\n",
    "LDH_L = MassReaction(\n",
    "    \"LDH_L\",\n",
    "    name=\"L-lactate dehydrogenase\",\n",
    "    subsystem=glycolysis.id,\n",
    "    reversible=True)\n",
    "LDH_L.add_metabolites({\n",
    "    h_c: -1,\n",
    "    nadh_c: -1,\n",
    "    pyr_c: -1,\n",
    "    lac__L_c: 1,\n",
    "    nad_c: 1})\n",
    "\n",
    "ADK1 = MassReaction(\n",
    "    \"ADK1\",\n",
    "    name=\"Adenylate kinase\",\n",
    "    subsystem=\"Misc.\",\n",
    "    reversible=True)\n",
    "ADK1.add_metabolites({\n",
    "    adp_c: -2,\n",
    "    amp_c: 1,\n",
    "    atp_c: 1})\n",
    "\n",
    "ATPM = MassReaction(\n",
    "    \"ATPM\",\n",
    "    name=\"ATP maintenance requirement\",\n",
    "    subsystem=\"Pseudoreaction\",\n",
    "    reversible=False)\n",
    "ATPM.add_metabolites({\n",
    "    atp_c: -1,\n",
    "    h2o_c: -1,\n",
    "    adp_c: 1,\n",
    "    h_c: 1,\n",
    "    pi_c: 1})\n",
    "\n",
    "DM_nadh = MassReaction(\n",
    "    \"DM_nadh\",\n",
    "    name=\"Demand NADH\",\n",
    "    subsystem=\"Pseudoreaction\",\n",
    "    reversible=False)\n",
    "DM_nadh.add_metabolites({\n",
    "    nadh_c: -1,\n",
    "    nad_c: 1,\n",
    "    h_c: 1})\n",
    "\n",
    "glycolysis.add_reactions([\n",
    "    HEX1, PGI, PFK, FBA, TPI, GAPD, PGK,\n",
    "    PGM, ENO, PYK, LDH_L, ADK1, ATPM, DM_nadh])"
   ]
  },
  {
   "cell_type": "markdown",
   "metadata": {},
   "source": [
    "#### Boundary reactions"
   ]
  },
  {
   "cell_type": "code",
   "execution_count": 5,
   "metadata": {},
   "outputs": [],
   "source": [
    "SK_glc__D_c = glycolysis.add_boundary(\n",
    "    metabolite=glc__D_c, boundary_type=\"sink\", subsystem=\"Pseudoreaction\",\n",
    "    boundary_condition=1)\n",
    "SK_glc__D_c.reverse_stoichiometry(inplace=True)\n",
    "\n",
    "SK_lac__L_c = glycolysis.add_boundary(\n",
    "    metabolite=lac__L_c, boundary_type=\"sink\", subsystem=\"Pseudoreaction\",\n",
    "    boundary_condition=1)\n",
    "\n",
    "SK_pyr_c = glycolysis.add_boundary(\n",
    "    metabolite=pyr_c, boundary_type=\"sink\", subsystem=\"Pseudoreaction\",\n",
    "    boundary_condition=0.06)\n",
    "\n",
    "SK_h_c = glycolysis.add_boundary(\n",
    "    metabolite=h_c, boundary_type=\"sink\", subsystem=\"Pseudoreaction\",\n",
    "    boundary_condition=6.30957e-05)\n",
    "\n",
    "SK_h2o_c = glycolysis.add_boundary(\n",
    "    metabolite=h2o_c, boundary_type=\"sink\", subsystem=\"Pseudoreaction\",\n",
    "    boundary_condition=1)\n",
    "\n",
    "SK_amp_c = glycolysis.add_boundary(\n",
    "    metabolite=amp_c, boundary_type=\"sink\", subsystem=\"Pseudoreaction\",\n",
    "    boundary_condition=1)\n",
    "SK_amp_c.reverse_stoichiometry(inplace=True)\n",
    "\n",
    "DM_amp_c = glycolysis.add_boundary(\n",
    "    metabolite=amp_c, boundary_type=\"demand\", subsystem=\"Pseudoreaction\",\n",
    "    boundary_condition=1)\n",
    "\n",
    "SK_pi_c = glycolysis.add_boundary(\n",
    "    metabolite=pi_c, boundary_type=\"sink\", subsystem=\"Pseudoreaction\",\n",
    "    boundary_condition=2.5)"
   ]
  },
  {
   "cell_type": "markdown",
   "metadata": {},
   "source": [
    "### Ordering of species and reactions\n"
   ]
  },
  {
   "cell_type": "code",
   "execution_count": 6,
   "metadata": {},
   "outputs": [],
   "source": [
    "new_metabolite_order = [\n",
    "    \"glc__D_c\", \"g6p_c\", \"f6p_c\", \"fdp_c\", \"dhap_c\",\n",
    "    \"g3p_c\", \"_13dpg_c\", \"_3pg_c\", \"_2pg_c\", \"pep_c\",\n",
    "    \"pyr_c\", \"lac__L_c\", \"nad_c\", \"nadh_c\", \"amp_c\",\n",
    "    \"adp_c\", \"atp_c\", \"pi_c\", \"h_c\", \"h2o_c\"]\n",
    "\n",
    "if len(glycolysis.metabolites) == len(new_metabolite_order):\n",
    "    glycolysis.metabolites = DictList(\n",
    "        glycolysis.metabolites.get_by_any(new_metabolite_order))\n",
    "    \n",
    "new_reaction_order = [\n",
    "    \"HEX1\", \"PGI\", \"PFK\", \"FBA\", \"TPI\",\n",
    "    \"GAPD\", \"PGK\", \"PGM\", \"ENO\", \"PYK\",\n",
    "    \"LDH_L\", \"DM_amp_c\", \"ADK1\", \"SK_pyr_c\",\n",
    "    \"SK_lac__L_c\", \"ATPM\", \"DM_nadh\", \"SK_glc__D_c\",\n",
    "    \"SK_amp_c\", \"SK_h_c\", \"SK_h2o_c\", \"SK_pi_c\"]\n",
    "\n",
    "if len(glycolysis.reactions) == len(new_reaction_order):\n",
    "    glycolysis.reactions = DictList(\n",
    "        glycolysis.reactions.get_by_any(new_reaction_order))"
   ]
  },
  {
   "cell_type": "markdown",
   "metadata": {},
   "source": [
    "### Compartments"
   ]
  },
  {
   "cell_type": "code",
   "execution_count": 7,
   "metadata": {},
   "outputs": [],
   "source": [
    "glycolysis.compartments = {\"c\": \"Cytosol\"}"
   ]
  },
  {
   "cell_type": "markdown",
   "metadata": {},
   "source": [
    "## Model Parameterization\n",
    "### Steady State fluxes"
   ]
  },
  {
   "cell_type": "code",
   "execution_count": 8,
   "metadata": {},
   "outputs": [],
   "source": [
    "minspan_paths = [\n",
    "    [1, 1, 1, 1, 1, 2, 2, 2, 2, 2, 2, 0, 0, 0, 2, 2, 0, 1, 0, 2, 0, 0],\n",
    "    [0, 0, 0, 0, 0, 0, 0, 0, 0, 0, -1, 0, 0, 1, -1, 0, 1, 0, 0, 2, 0, 0],\n",
    "    [0, 0, 0, 0, 0, 0, 0, 0, 0, 0, 0, 1, 0, 0, 0, 0, 0, 0, 1, 0, 0, 0]]\n",
    "glycolysis.compute_steady_state_fluxes(\n",
    "    pathways=minspan_paths,\n",
    "    independent_fluxes={\n",
    "        SK_glc__D_c: 1.12,\n",
    "        DM_nadh: .2 * 1.12,\n",
    "        DM_amp_c: 0.014},\n",
    "    update_reactions=True);"
   ]
  },
  {
   "cell_type": "markdown",
   "metadata": {},
   "source": [
    "### Initial Conditions"
   ]
  },
  {
   "cell_type": "code",
   "execution_count": 9,
   "metadata": {},
   "outputs": [],
   "source": [
    "glc__D_c.ic = 1.0\n",
    "g6p_c.ic = 0.0486\n",
    "f6p_c.ic = 0.0198\n",
    "fdp_c.ic = 0.0146\n",
    "g3p_c.ic = 0.00728\n",
    "dhap_c.ic = 0.16\n",
    "_13dpg_c.ic = 0.000243\n",
    "_3pg_c.ic = 0.0773\n",
    "_2pg_c.ic = 0.0113\n",
    "pep_c.ic = 0.017\n",
    "pyr_c.ic = 0.060301\n",
    "lac__L_c.ic = 1.36\n",
    "atp_c.ic = 1.6\n",
    "adp_c.ic = 0.29\n",
    "amp_c.ic = 0.0867281\n",
    "h_c.ic = 0.0000899757\n",
    "nad_c.ic = 0.0589\n",
    "nadh_c.ic = 0.0301\n",
    "pi_c.ic = 2.5\n",
    "h2o_c.ic = 1.0"
   ]
  },
  {
   "cell_type": "markdown",
   "metadata": {},
   "source": [
    "### Equilibirum Constants"
   ]
  },
  {
   "cell_type": "code",
   "execution_count": 10,
   "metadata": {},
   "outputs": [],
   "source": [
    "HEX1.Keq = 850\n",
    "PGI.Keq = 0.41\n",
    "PFK.Keq = 310\n",
    "FBA.Keq = 0.082\n",
    "TPI.Keq = 0.0571429\n",
    "GAPD.Keq = 0.0179\n",
    "PGK.Keq = 1800\n",
    "PGM.Keq = 0.147059\n",
    "ENO.Keq = 1.69492\n",
    "PYK.Keq = 363000\n",
    "LDH_L.Keq = 26300\n",
    "ADK1.Keq = 1.65\n",
    "SK_glc__D_c.Keq = float(\"inf\")\n",
    "SK_lac__L_c.Keq = 1\n",
    "SK_pyr_c.Keq = 1\n",
    "SK_h_c.Keq = 1\n",
    "SK_h2o_c.Keq = 1\n",
    "SK_amp_c.Keq = float(\"inf\")\n",
    "SK_pi_c.Keq =1"
   ]
  },
  {
   "cell_type": "markdown",
   "metadata": {},
   "source": [
    "### PERCs"
   ]
  },
  {
   "cell_type": "code",
   "execution_count": 11,
   "metadata": {},
   "outputs": [],
   "source": [
    "glycolysis.calculate_PERCs(update_reactions=True);\n",
    "SK_pi_c.kf = 0.23"
   ]
  },
  {
   "cell_type": "markdown",
   "metadata": {},
   "source": [
    "### Units"
   ]
  },
  {
   "cell_type": "code",
   "execution_count": 12,
   "metadata": {},
   "outputs": [],
   "source": [
    "concentration = UnitDefinition(\"mM\", name=\"Millimolar\", list_of_units=[\"millimole\", \"per_litre\"])\n",
    "time = UnitDefinition(\"hr\", name=\"hour\", list_of_units=[\"hour\"])\n",
    "\n",
    "glycolysis.add_units([concentration, time])"
   ]
  },
  {
   "cell_type": "markdown",
   "metadata": {},
   "source": [
    "## QC Model"
   ]
  },
  {
   "cell_type": "code",
   "execution_count": 13,
   "metadata": {},
   "outputs": [
    {
     "name": "stdout",
     "output_type": "stream",
     "text": [
      "╒══════════════════════════════════════════════╕\n",
      "│ MODEL ID: Glycolysis                         │\n",
      "│ SIMULATABLE: True                            │\n",
      "│ PARAMETERS NUMERICALY CONSISTENT: True       │\n",
      "╞══════════════════════════════════════════════╡\n",
      "│ ============================================ │\n",
      "│             CONSISTENCY CHECKS               │\n",
      "│ ============================================ │\n",
      "│ Elemental                                    │\n",
      "│ ----------------------                       │\n",
      "│ DM_nadh: {charge: 2.0}                       │\n",
      "│ ============================================ │\n",
      "╘══════════════════════════════════════════════╛\n"
     ]
    }
   ],
   "source": [
    "qcqa_model(glycolysis, parameters=True, concentrations=True, \n",
    "           fluxes=True, superfluous=True, elemental=True)"
   ]
  },
  {
   "cell_type": "markdown",
   "metadata": {},
   "source": [
    "## Simulation"
   ]
  },
  {
   "cell_type": "code",
   "execution_count": 14,
   "metadata": {},
   "outputs": [
    {
     "name": "stdout",
     "output_type": "stream",
     "text": [
      "Successfully loaded MassModel 'Glycolysis' into RoadRunner.\n"
     ]
    },
    {
     "data": {
      "image/png": "[encoded data removed]",
      "text/plain": [
       "<Figure size 432x288 with 1 Axes>"
      ]
     },
     "metadata": {
      "needs_background": "light"
     },
     "output_type": "display_data"
    }
   ],
   "source": [
    "sim = Simulation(glycolysis, verbose=True)\n",
    "conc_sol, flux_sol = sim.simulate(glycolysis, time=(0, 1e3, 1e4 + 1))\n",
    "conc_sol.view_time_profile()"
   ]
  },
  {
   "cell_type": "markdown",
   "metadata": {},
   "source": [
    "## Export"
   ]
  },
  {
   "cell_type": "code",
   "execution_count": 15,
   "metadata": {},
   "outputs": [],
   "source": [
    "json.save_json_model(\n",
    "    mass_model=glycolysis,\n",
    "    filename=path.realpath(path.join(\"models\", glycolysis.id + \".json\")))"
   ]
  }
 ],
 "metadata": {
  "kernelspec": {
   "display_name": "Python 3",
   "language": "python",
   "name": "python3"
  },
  "language_info": {
   "codemirror_mode": {
    "name": "ipython",
    "version": 3
   },
   "file_extension": ".py",
   "mimetype": "text/x-python",
   "name": "python",
   "nbconvert_exporter": "python",
   "pygments_lexer": "ipython3",
   "version": "3.7.4"
  }
 },
 "nbformat": 4,
 "nbformat_minor": 2
}
