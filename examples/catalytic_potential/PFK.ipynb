{
 "cells": [
  {
   "cell_type": "markdown",
   "metadata": {},
   "source": [
    "# Phosphofructokinase (PFK)\n",
    "\n",
    "For the construction of the PFK `EnzymeModule`, the following assumptions were made:\n",
    "\n",
    "1. The enzyme is a homotetramer.\n",
    "2. The enzyme binding and catalyzation of substrates occurs in an ordered sequential mechanism.\n",
    "3. The mechanism of allosteric regulation is based on the Monod-Wyman-Changeux (MWC) model for allosteric transitions of homoproteins.\n",
    "\n",
    "\\\\(\\text{[PFK]}_{total} = 33 nM = 0.033 \\mu M = 0.000033 mM\\\\)."
   ]
  },
  {
   "cell_type": "code",
   "execution_count": 1,
   "metadata": {},
   "outputs": [
    {
     "name": "stdout",
     "output_type": "stream",
     "text": [
      "MASSpy version: 0.1.0a42\n"
     ]
    }
   ],
   "source": [
    "from operator import attrgetter\n",
    "from os import path\n",
    "\n",
    "from cobra import DictList\n",
    "\n",
    "import matplotlib.pyplot as plt\n",
    "\n",
    "from scipy import optimize\n",
    "\n",
    "import sympy as sym\n",
    "\n",
    "import mass\n",
    "from mass import MassMetabolite, Simulation, UnitDefinition\n",
    "from mass.enzyme_modules import EnzymeModule\n",
    "from mass.io import json\n",
    "from mass.util import Keq2k, k2Keq, strip_time, qcqa_model\n",
    "\n",
    "print(\"MASSpy version: \" + mass.__version__)"
   ]
  },
  {
   "cell_type": "markdown",
   "metadata": {},
   "source": [
    "## Load Models"
   ]
  },
  {
   "cell_type": "code",
   "execution_count": 2,
   "metadata": {},
   "outputs": [
    {
     "name": "stdout",
     "output_type": "stream",
     "text": [
      "Academic license - for non-commercial use only\n"
     ]
    }
   ],
   "source": [
    "glycolysis = json.load_json_model(\n",
    "    filename=path.realpath(path.join(\"models\", \"Glycolysis.json\")))"
   ]
  },
  {
   "cell_type": "markdown",
   "metadata": {},
   "source": [
    "## Module Construction"
   ]
  },
  {
   "cell_type": "code",
   "execution_count": 3,
   "metadata": {},
   "outputs": [],
   "source": [
    "PFK = EnzymeModule(\"PFK\", name=\"Phosphofructokinase\",\n",
    "                   subsystem=\"Glycolysis\")"
   ]
  },
  {
   "cell_type": "markdown",
   "metadata": {},
   "source": [
    "### Metabolites\n",
    "#### Ligands"
   ]
  },
  {
   "cell_type": "code",
   "execution_count": 4,
   "metadata": {},
   "outputs": [
    {
     "name": "stdout",
     "output_type": "stream",
     "text": [
      "substrates: ['f6p_c']\n",
      "cofactors: ['atp_c']\n",
      "activators: ['amp_c']\n",
      "inhibitors: ['atp_c']\n",
      "products: ['adp_c', 'fdp_c', 'h_c']\n"
     ]
    }
   ],
   "source": [
    "f6p_c = MassMetabolite(\n",
    "    \"f6p_c\",\n",
    "    name=\"D-Fructose 6-phosphate\",\n",
    "    formula=\"C6H11O9P\",\n",
    "    charge=-2,\n",
    "    compartment=\"c\")\n",
    "fdp_c = MassMetabolite(\n",
    "    \"fdp_c\",\n",
    "    name=\"D-Fructose 1,6-bisphosphate\",\n",
    "    formula=\"C6H10O12P2\",\n",
    "    charge=-4,\n",
    "    compartment=\"c\")\n",
    "atp_c = MassMetabolite(\n",
    "    \"atp_c\",\n",
    "    name=\"ATP\",\n",
    "    formula=\"C10H12N5O13P3\",\n",
    "    charge=-4,\n",
    "    compartment=\"c\")\n",
    "adp_c = MassMetabolite(\n",
    "    \"adp_c\",\n",
    "    name=\"ADP\",\n",
    "    formula=\"C10H12N5O10P2\",\n",
    "    charge=-3,\n",
    "    compartment=\"c\")\n",
    "amp_c = MassMetabolite(\n",
    "    \"amp_c\",\n",
    "    name=\"AMP\",\n",
    "    formula=\"C10H12N5O7P\",\n",
    "    charge=-2,\n",
    "    compartment=\"c\")\n",
    "h_c = MassMetabolite(\n",
    "    \"h_c\",\n",
    "    name=\"H+\",\n",
    "    formula=\"H\",\n",
    "    charge=1,\n",
    "    compartment=\"c\")\n",
    "\n",
    "PFK.add_metabolites([f6p_c, fdp_c, atp_c, adp_c, amp_c, h_c])\n",
    "\n",
    "PFK.enzyme_module_ligands_categorized =  {\n",
    "    \"substrates\": f6p_c,\n",
    "    \"cofactors\": atp_c,\n",
    "    \"activators\": amp_c,\n",
    "    \"inhibitors\": atp_c,\n",
    "    \"products\": [fdp_c, adp_c, h_c]}\n",
    "\n",
    "# Access categorized attribute for ligands and print\n",
    "for group in PFK.enzyme_module_ligands_categorized:\n",
    "    print(\"{0}: {1}\".format(\n",
    "        group.id, str(sorted([m.id for m in group.members]))))"
   ]
  },
  {
   "cell_type": "markdown",
   "metadata": {},
   "source": [
    "#### EnzymeModuleForms"
   ]
  },
  {
   "cell_type": "code",
   "execution_count": 5,
   "metadata": {},
   "outputs": [
    {
     "name": "stdout",
     "output_type": "stream",
     "text": [
      "Active: ['pfk_R0_AF_c', 'pfk_R0_A_c', 'pfk_R0_c', 'pfk_R1_AF_c', 'pfk_R1_A_c', 'pfk_R1_c', 'pfk_R2_AF_c', 'pfk_R2_A_c', 'pfk_R2_c', 'pfk_R3_AF_c', 'pfk_R3_A_c', 'pfk_R3_c', 'pfk_R4_AF_c', 'pfk_R4_A_c', 'pfk_R4_c']\n",
      "\n",
      "Inhibited: ['pfk_T0_c', 'pfk_T1_c', 'pfk_T2_c', 'pfk_T3_c', 'pfk_T4_c']\n",
      "\n"
     ]
    }
   ],
   "source": [
    "# Number of identical subunits\n",
    "n_subunits = 4\n",
    "\n",
    "for i in range(n_subunits + 1):\n",
    "    # Make enzyme module forms per number of bound activators (Up to 4 Total)\n",
    "    PFK.make_enzyme_module_form(\n",
    "        \"pfk_R{0:d}_c\".format(i), \n",
    "        name=\"Automatic\", \n",
    "        categories=\"Active\",\n",
    "        bound_catalytic={},\n",
    "        bound_effectors={amp_c: i},\n",
    "        compartment=\"c\");\n",
    "\n",
    "    PFK.make_enzyme_module_form(\n",
    "        \"pfk_R{0:d}_A_c\".format(i), \n",
    "        name=\"Automatic\", \n",
    "        categories=\"Active\",\n",
    "        bound_catalytic={atp_c: 1},\n",
    "        bound_effectors={amp_c: i},\n",
    "        compartment=\"c\");\n",
    "    \n",
    "    PFK.make_enzyme_module_form(\n",
    "        \"pfk_R{0:d}_AF_c\".format(i), \n",
    "        name=\"Automatic\", \n",
    "        categories=\"Active\",\n",
    "        bound_catalytic={atp_c: 1, f6p_c: 1},\n",
    "        bound_effectors={amp_c: i},\n",
    "        compartment=\"c\");\n",
    "\n",
    "    # Make enzyme module forms per number of bound inhibitors (Up to 4 Total)\n",
    "    PFK.make_enzyme_module_form(\n",
    "        \"pfk_T{0:d}_c\".format(i), \n",
    "        name=\"Automatic\", \n",
    "        categories=\"Inhibited\",\n",
    "        bound_catalytic={},\n",
    "        bound_effectors={atp_c: i},\n",
    "        compartment=\"c\");\n",
    "    \n",
    "# Access categorized attribute for enzyme module forms and print\n",
    "for group in PFK.enzyme_module_forms_categorized:\n",
    "    print(\"{0}: {1}\\n\".format(\n",
    "        group.id, str(sorted([m.id for m in group.members]))))"
   ]
  },
  {
   "cell_type": "markdown",
   "metadata": {},
   "source": [
    "### Reactions\n",
    "#### EnzymeModuleReactions"
   ]
  },
  {
   "cell_type": "code",
   "execution_count": 6,
   "metadata": {},
   "outputs": [
    {
     "name": "stdout",
     "output_type": "stream",
     "text": [
      "atp_c_binding: ['PFK_R01', 'PFK_R11', 'PFK_R21', 'PFK_R31', 'PFK_R41']\n",
      "\n",
      "f6p_c_binding: ['PFK_R02', 'PFK_R12', 'PFK_R22', 'PFK_R32', 'PFK_R42']\n",
      "\n",
      "catalyzation: ['PFK_R03', 'PFK_R13', 'PFK_R23', 'PFK_R33', 'PFK_R43']\n",
      "\n",
      "amp_c_activation: ['PFK_R10', 'PFK_R20', 'PFK_R30', 'PFK_R40']\n",
      "\n",
      "atp_c_inhibition: ['PFK_T1', 'PFK_T2', 'PFK_T3', 'PFK_T4']\n",
      "\n",
      "rt_transition: ['PFK_L']\n",
      "\n"
     ]
    }
   ],
   "source": [
    "for i in range(n_subunits + 1):\n",
    "    # Make reactions for enzyme-ligand binding and catalytzation per number of bound activators (Up to 4 Total)\n",
    "    PFK.make_enzyme_module_reaction(\n",
    "        \"PFK_R{0:d}1\".format(i), \n",
    "        name=\"Automatic\",\n",
    "        subsystem=\"Glycolysis\",\n",
    "        reversible=True,\n",
    "        categories=\"atp_c_binding\",\n",
    "        metabolites_to_add={\n",
    "            \"pfk_R{0:d}_c\".format(i): -1, \n",
    "            \"atp_c\": -1, \n",
    "            \"pfk_R{0:d}_A_c\".format(i): 1})\n",
    "    \n",
    "    PFK.make_enzyme_module_reaction(\n",
    "        \"PFK_R{0:d}2\".format(i), \n",
    "        name=\"Automatic\",\n",
    "        subsystem=\"Glycolysis\",\n",
    "        reversible=True,\n",
    "        categories=\"f6p_c_binding\",\n",
    "        metabolites_to_add={\n",
    "            \"pfk_R{0:d}_A_c\".format(i): -1, \n",
    "            \"f6p_c\": -1, \n",
    "            \"pfk_R{0:d}_AF_c\".format(i): 1})\n",
    "    \n",
    "    PFK.make_enzyme_module_reaction(\n",
    "        \"PFK_R{0:d}3\".format(i), \n",
    "        name=\"Automatic\",\n",
    "        subsystem=\"Glycolysis\",\n",
    "        reversible=False,\n",
    "        categories=\"catalyzation\",\n",
    "        metabolites_to_add={\n",
    "            \"pfk_R{0:d}_AF_c\".format(i): -1, \n",
    "            \"pfk_R{0:d}_c\".format(i): 1, \n",
    "            \"adp_c\": 1, \n",
    "            \"fdp_c\": 1,\n",
    "            \"h_c\": 1})\n",
    "    \n",
    "    if i < n_subunits:\n",
    "        # Make enzyme reactions for enzyme-activator binding\n",
    "        PFK.make_enzyme_module_reaction(\n",
    "            \"PFK_R{0:d}0\".format(i + 1), \n",
    "            name=\"Automatic\",\n",
    "            subsystem=\"Glycolysis\",\n",
    "            reversible=True,\n",
    "            categories=\"amp_c_activation\",\n",
    "            metabolites_to_add={\n",
    "                \"pfk_R{0:d}_c\".format(i): -1, \n",
    "                \"amp_c\": -1, \n",
    "                \"pfk_R{0:d}_c\".format(i + 1): 1})\n",
    "\n",
    "        # Make enzyme reactions for enzyme-inhibitor binding\n",
    "        PFK.make_enzyme_module_reaction(\n",
    "            \"PFK_T{0:d}\".format(i + 1), \n",
    "            name=\"Automatic\",\n",
    "            subsystem=\"Glycolysis\",\n",
    "            reversible=True,\n",
    "            categories=\"atp_c_inhibition\",\n",
    "            metabolites_to_add={\n",
    "                \"pfk_T{0:d}_c\".format(i): -1, \n",
    "                \"atp_c\": -1, \n",
    "                \"pfk_T{0:d}_c\".format(i + 1): 1})\n",
    "\n",
    "# Make reaction representing enzyme transition from R to T state\n",
    "PFK.make_enzyme_module_reaction(\n",
    "    \"PFK_L\",\n",
    "    name=\"Automatic\",\n",
    "    subsystem=\"Glycolysis\",\n",
    "    reversible=True,\n",
    "    categories=\"rt_transition\",\n",
    "    metabolites_to_add={\n",
    "        \"pfk_R0_c\": -1, \n",
    "        \"pfk_T0_c\": 1});\n",
    "\n",
    "# Access categorized attribute for enzyme module reactions and print\n",
    "for group in PFK.enzyme_module_reactions_categorized:\n",
    "    print(\"{0}: {1}\\n\".format(\n",
    "        group.id, str(sorted([m.id for m in group.members]))))"
   ]
  },
  {
   "cell_type": "markdown",
   "metadata": {},
   "source": [
    "#### Unify Rate Parameters"
   ]
  },
  {
   "cell_type": "code",
   "execution_count": 7,
   "metadata": {},
   "outputs": [
    {
     "name": "stdout",
     "output_type": "stream",
     "text": [
      "\n",
      "Category: atp_c_binding\n",
      "-----------------------\n",
      "PFK_R01: kf_PFK_A*(atp_c(t)*pfk_R0_c(t) - pfk_R0_A_c(t)/Keq_PFK_A)\n",
      "PFK_R11: kf_PFK_A*(atp_c(t)*pfk_R1_c(t) - pfk_R1_A_c(t)/Keq_PFK_A)\n",
      "PFK_R21: kf_PFK_A*(atp_c(t)*pfk_R2_c(t) - pfk_R2_A_c(t)/Keq_PFK_A)\n",
      "PFK_R31: kf_PFK_A*(atp_c(t)*pfk_R3_c(t) - pfk_R3_A_c(t)/Keq_PFK_A)\n",
      "PFK_R41: kf_PFK_A*(atp_c(t)*pfk_R4_c(t) - pfk_R4_A_c(t)/Keq_PFK_A)\n",
      "\n",
      "Category: f6p_c_binding\n",
      "-----------------------\n",
      "PFK_R02: kf_PFK_F*(f6p_c(t)*pfk_R0_A_c(t) - pfk_R0_AF_c(t)/Keq_PFK_F)\n",
      "PFK_R12: kf_PFK_F*(f6p_c(t)*pfk_R1_A_c(t) - pfk_R1_AF_c(t)/Keq_PFK_F)\n",
      "PFK_R22: kf_PFK_F*(f6p_c(t)*pfk_R2_A_c(t) - pfk_R2_AF_c(t)/Keq_PFK_F)\n",
      "PFK_R32: kf_PFK_F*(f6p_c(t)*pfk_R3_A_c(t) - pfk_R3_AF_c(t)/Keq_PFK_F)\n",
      "PFK_R42: kf_PFK_F*(f6p_c(t)*pfk_R4_A_c(t) - pfk_R4_AF_c(t)/Keq_PFK_F)\n",
      "\n",
      "Category: catalyzation\n",
      "----------------------\n",
      "PFK_R03: kf_PFK*pfk_R0_AF_c(t)\n",
      "PFK_R13: kf_PFK*pfk_R1_AF_c(t)\n",
      "PFK_R23: kf_PFK*pfk_R2_AF_c(t)\n",
      "PFK_R33: kf_PFK*pfk_R3_AF_c(t)\n",
      "PFK_R43: kf_PFK*pfk_R4_AF_c(t)\n",
      "\n",
      "Category: amp_c_activation\n",
      "--------------------------\n",
      "PFK_R10: kf_PFK_ACT*(4*amp_c(t)*pfk_R0_c(t) - pfk_R1_c(t)/Keq_PFK_ACT)\n",
      "PFK_R20: kf_PFK_ACT*(3*amp_c(t)*pfk_R1_c(t) - 2*pfk_R2_c(t)/Keq_PFK_ACT)\n",
      "PFK_R30: kf_PFK_ACT*(2*amp_c(t)*pfk_R2_c(t) - 3*pfk_R3_c(t)/Keq_PFK_ACT)\n",
      "PFK_R40: kf_PFK_ACT*(amp_c(t)*pfk_R3_c(t) - 4*pfk_R4_c(t)/Keq_PFK_ACT)\n",
      "\n",
      "Category: atp_c_inhibition\n",
      "--------------------------\n",
      "PFK_T1: kf_PFK_I*(4*atp_c(t)*pfk_T0_c(t) - pfk_T1_c(t)/Keq_PFK_I)\n",
      "PFK_T2: kf_PFK_I*(3*atp_c(t)*pfk_T1_c(t) - 2*pfk_T2_c(t)/Keq_PFK_I)\n",
      "PFK_T3: kf_PFK_I*(2*atp_c(t)*pfk_T2_c(t) - 3*pfk_T3_c(t)/Keq_PFK_I)\n",
      "PFK_T4: kf_PFK_I*(atp_c(t)*pfk_T3_c(t) - 4*pfk_T4_c(t)/Keq_PFK_I)\n",
      "\n",
      "Category: rt_transition\n",
      "-----------------------\n",
      "PFK_L: kf_PFK_L*(pfk_R0_c(t) - pfk_T0_c(t)/Keq_PFK_L)\n"
     ]
    }
   ],
   "source": [
    "abbreviations = [\"A\", \"F\", \"I\", \"ACT\"]\n",
    "ligands = [atp_c, f6p_c, atp_c, amp_c]\n",
    "\n",
    "for met, unified_id in zip(ligands, abbreviations):\n",
    "    category = {\"A\": \"binding\",\n",
    "                \"F\": \"binding\",\n",
    "                \"I\": \"inhibition\",\n",
    "                \"ACT\": \"activation\"}[unified_id]\n",
    "    group = PFK.enzyme_module_reactions_categorized.get_by_id(\n",
    "        \"_\".join((met.id, category)))\n",
    "    reactions = sorted(group.members, key=attrgetter(\"id\"))\n",
    "    PFK.unify_rate_parameters(reactions, unified_id,\n",
    "                              rate_type=2, enzyme_prefix=True)\n",
    "    # Add the coefficients to make symmetry model rate laws for activation and inhibition \n",
    "    if unified_id in [\"I\", \"ACT\"]:\n",
    "        for i, reaction in enumerate(reactions):\n",
    "            custom_rate = str(strip_time((reaction.rate)))\n",
    "            custom_rate = custom_rate.replace(\n",
    "                \"kf_\", \"{0:d}*kf_\".format(n_subunits - i))\n",
    "            custom_rate = custom_rate.replace(\n",
    "                \"kr_\", \"{0:d}*kr_\".format(i + 1))\n",
    "            PFK.add_custom_rate(reaction, custom_rate)\n",
    "            \n",
    "PFK.unify_rate_parameters(\n",
    "    PFK.enzyme_module_reactions_categorized.get_by_id(\"catalyzation\").members,\n",
    "    \"PFK\")\n",
    "# Update rate laws to be in terms of kf and Keq\n",
    "PFK.custom_rates.update(k2Keq(PFK.custom_rates))\n",
    "\n",
    "# Access categorized attribute for enzyme module reactions and print\n",
    "for group in PFK.enzyme_module_reactions_categorized:\n",
    "    header = \"Category: \" + group.id\n",
    "    print(\"\\n\" + header + \"\\n\" + \"-\" * len(header))\n",
    "    for reaction in sorted(group.members, key=attrgetter(\"id\")):\n",
    "        print(reaction.id + \": \" + str(reaction.rate))"
   ]
  },
  {
   "cell_type": "markdown",
   "metadata": {},
   "source": [
    "### Compartments"
   ]
  },
  {
   "cell_type": "code",
   "execution_count": 8,
   "metadata": {},
   "outputs": [],
   "source": [
    "PFK.compartments = {\"c\": \"Cytosol\"}"
   ]
  },
  {
   "cell_type": "markdown",
   "metadata": {},
   "source": [
    "## Steady State Concentrations and Rate Constants\n",
    "### Rate Equation"
   ]
  },
  {
   "cell_type": "code",
   "execution_count": 9,
   "metadata": {},
   "outputs": [
    {
     "name": "stdout",
     "output_type": "stream",
     "text": [
      "kf_PFK*(pfk_R0_AF_c(t) + pfk_R1_AF_c(t) + pfk_R2_AF_c(t) + pfk_R3_AF_c(t) + pfk_R4_AF_c(t))\n"
     ]
    }
   ],
   "source": [
    "catalyzation_rxns = PFK.enzyme_module_reactions_categorized.get_by_id(\n",
    "    \"catalyzation\").members\n",
    "PFK.make_enzyme_rate_equation(\n",
    "    catalyzation_rxns,\n",
    "    use_rates=True, update_enzyme=True)\n",
    "\n",
    "print(PFK.enzyme_rate_equation)"
   ]
  },
  {
   "cell_type": "markdown",
   "metadata": {},
   "source": [
    "### Solve steady state concentrations symbolically"
   ]
  },
  {
   "cell_type": "code",
   "execution_count": 10,
   "metadata": {},
   "outputs": [],
   "source": [
    "ode_dict = {\n",
    "    sym.Symbol(enzyme_module_form.id): sym.Eq(strip_time(enzyme_module_form.ode))\n",
    "    for enzyme_module_form in PFK.enzyme_module_forms}\n",
    "\n",
    "# Get enzyme module forms\n",
    "enzyme_module_forms = PFK.enzyme_module_forms.copy()\n",
    "# Reverse list for increased performance (due to symmetry assumption)\n",
    "# by solving for the most activated/inhibitors bound first.\n",
    "enzyme_module_forms.reverse()\n",
    "\n",
    "enzyme_solutions = {}\n",
    "for enzyme_module_form in enzyme_module_forms:\n",
    "    # Skip dependent variable\n",
    "    if \"pfk_R0_c\" == str(enzyme_module_form):\n",
    "        continue\n",
    "    enzyme_module_form = sym.Symbol(enzyme_module_form.id)\n",
    "    # Susbtitute in previous solutions and solve for the enzyme module form, \n",
    "    equation = ode_dict[enzyme_module_form]\n",
    "    sol = sym.solveset(equation.subs(enzyme_solutions),\n",
    "                       enzyme_module_form)\n",
    "    enzyme_solutions[enzyme_module_form] = list(sol)[0]\n",
    "    # Update the dictionary of solutions with the solutions\n",
    "    enzyme_solutions.update({\n",
    "        enzyme_module_form: sol.subs(enzyme_solutions) \n",
    "        for enzyme_module_form, sol in enzyme_solutions.items()})\n",
    "    \n",
    "enzyme_rate_equation = strip_time(PFK.enzyme_rate_error(False))\n",
    "\n",
    "# Solve for last unknown concentration symbolically\n",
    "sol = sym.solveset(enzyme_rate_equation.subs(enzyme_solutions),\n",
    "                   \"pfk_R0_c\")\n",
    "\n",
    "# Update solution dictionary with the new solution\n",
    "enzyme_solutions[sym.Symbol(\"pfk_R0_c\")] = list(sol)[0]\n",
    "\n",
    "# Update solutions with free variable solutions\n",
    "enzyme_solutions = {\n",
    "    enzyme_module_form: sym.simplify(solution.subs(enzyme_solutions))\n",
    "    for enzyme_module_form, solution in enzyme_solutions.items()}"
   ]
  },
  {
   "cell_type": "markdown",
   "metadata": {},
   "source": [
    "#### Numerical Values"
   ]
  },
  {
   "cell_type": "code",
   "execution_count": 11,
   "metadata": {},
   "outputs": [
    {
     "name": "stdout",
     "output_type": "stream",
     "text": [
      "\n",
      "Numerical Values\n",
      "----------------\n",
      "v_PFK = 1.12\n",
      "adp_c = 0.29\n",
      "amp_c = 0.0867281\n",
      "atp_c = 1.6\n",
      "f6p_c = 0.0198\n",
      "fdp_c = 0.0146\n",
      "h_c = 8.99757e-05\n",
      "Keq_PFK_A = 14.705882352941176\n",
      "Keq_PFK_F = 10.0\n",
      "Keq_PFK_I = 10.0\n",
      "Keq_PFK_ACT = 30.3030303030303\n",
      "Keq_PFK_L = 0.0011\n"
     ]
    }
   ],
   "source": [
    "numerical_values = {}\n",
    "\n",
    "# Get ligand IDs and parameter IDs\n",
    "ligand_ids = sorted([str(ligand) for ligand in PFK.enzyme_module_ligands])\n",
    "parameter_ids = [\"_\".join((PFK.id, abbrev)) for abbrev in abbreviations + [\"L\"]]\n",
    "\n",
    "# Get the steady state flux value and add to numerical values\n",
    "PFK.enzyme_rate = glycolysis.reactions.get_by_id(PFK.id).steady_state_flux\n",
    "numerical_values.update({PFK.enzyme_flux_symbol_str: PFK.enzyme_rate})\n",
    "\n",
    "# Get the steady state concentration values and add to numerical values\n",
    "initial_conditions = {\n",
    "    str(ligand): glycolysis.initial_conditions[glycolysis.metabolites.get_by_id(ligand)]\n",
    "    for ligand in ligand_ids}\n",
    "numerical_values.update(initial_conditions)\n",
    "\n",
    "# Define parameter values and add to numerical values\n",
    "# Because of the QEA, invert dissociation constants for Keq\n",
    "parameter_values = {\n",
    "    \"Keq_\" + parameter_id: value \n",
    "    for parameter_id, value in zip(parameter_ids, [1/0.068, 1/0.1, 1/0.1, 1/0.033, 0.0011])}\n",
    "numerical_values.update(parameter_values)\n",
    "\n",
    "# Display numerical values\n",
    "print(\"\\nNumerical Values\\n----------------\")\n",
    "for k, v in numerical_values.items():\n",
    "    print(\"{0} = {1}\".format(k, v))"
   ]
  },
  {
   "cell_type": "markdown",
   "metadata": {},
   "source": [
    "### Calculate Steady State Concentrations"
   ]
  },
  {
   "cell_type": "markdown",
   "metadata": {},
   "source": [
    "#### Set total enzyme concentration"
   ]
  },
  {
   "cell_type": "code",
   "execution_count": 12,
   "metadata": {},
   "outputs": [],
   "source": [
    "PFK.enzyme_concentration_total = 33e-6"
   ]
  },
  {
   "cell_type": "markdown",
   "metadata": {},
   "source": [
    "#### Determine rate constants"
   ]
  },
  {
   "cell_type": "code",
   "execution_count": 13,
   "metadata": {},
   "outputs": [
    {
     "name": "stdout",
     "output_type": "stream",
     "text": [
      "`xtol` termination condition is satisfied.\n",
      "Number of iterations: 91, function evaluations: 264, CG iterations: 112, optimality: 9.84e-12, constraint violation: 0.00e+00, execution time: 0.71 s.\n",
      "\n",
      "Optimization Success: True\n",
      "Optimization Optimality: 9.8428e-12\n",
      "Parameter Solutions: {'kf_PFK': 949000.0, 'kf_PFK_A': 1087095.0, 'kf_PFK_F': 2460332.0}\n",
      "Concentration Error: 4.3974e-12\n"
     ]
    }
   ],
   "source": [
    "enzyme_solutions = {\n",
    "    enzyme_module_form: sym.simplify(solution.subs(numerical_values))\n",
    "    for enzyme_module_form, solution in enzyme_solutions.items()}\n",
    "\n",
    "args = set()\n",
    "for sol in enzyme_solutions.values():\n",
    "    args.update(sol.atoms(sym.Symbol))\n",
    "    \n",
    "enzyme_total_constraint = abs(\n",
    "    strip_time(PFK.enzyme_concentration_total_error(use_values=False)))\n",
    "\n",
    "# Substitute value for enzyme concentration total\n",
    "enzyme_total_constraint = enzyme_total_constraint.subs({\n",
    "    PFK.enzyme_total_symbol_str: PFK.enzyme_concentration_total})\n",
    "# Substitute solutions into constraint and simplify\n",
    "enzyme_total_constraint = sym.simplify(\n",
    "    enzyme_total_constraint.subs(enzyme_solutions))\n",
    "\n",
    "# Create a sorted tuple of the arguments to ensure the input format does not change\n",
    "args = tuple(sorted([str(arg) for arg in list(args)]))\n",
    "# Create the objective function as a lambda function\n",
    "objective_function = lambda x: sym.lambdify(args, enzyme_total_constraint)(*x)\n",
    "\n",
    "# Set arguments for minimization \n",
    "initial_guess = [3.07e5, 1.25e5, 5.05e5]\n",
    "kf_bounds = ((1e3, 1e9), (1e3, 1e9), (1e3, 1e9))\n",
    "constraints = (\n",
    "    {\"type\": \"eq\", \"fun\": objective_function})\n",
    "# Find a feasible solution\n",
    "sol = optimize.minimize(\n",
    "    objective_function, x0=initial_guess, method=\"trust-constr\",\n",
    "    bounds=kf_bounds,\n",
    "    options={\"gtol\": 1e-12, \"xtol\": 1e-12, \"maxiter\": 1e4, \"disp\": True})\n",
    "\n",
    "# Check whether optimzation was successful\n",
    "print(\"\\nOptimization Success: {0}\".format(sol.success))\n",
    "if sol.success:\n",
    "    # Update the paramter values dictionary with the feasible solution\n",
    "    parameter_values.update(\n",
    "        dict(zip(args, [round(x) for x in sol.x])))\n",
    "    print(\"Optimization Optimality: {0:.4e}\".format(sol.optimality))\n",
    "    print(\"Parameter Solutions: {:}\".format(str({\n",
    "        arg: parameter_values[arg] for arg in args})))\n",
    "    # Plug solutions back into constraints for validation\n",
    "    print(\"Concentration Error: {0:.4e}\".format(\n",
    "        enzyme_total_constraint.subs(parameter_values)))"
   ]
  },
  {
   "cell_type": "markdown",
   "metadata": {},
   "source": [
    "#### Set initial conditions"
   ]
  },
  {
   "cell_type": "code",
   "execution_count": 14,
   "metadata": {},
   "outputs": [
    {
     "name": "stdout",
     "output_type": "stream",
     "text": [
      "Ligand Concentrations\n",
      "---------------------\n",
      "f6p_c = 0.0198\n",
      "fdp_c = 0.0146\n",
      "atp_c = 1.6\n",
      "adp_c = 0.29\n",
      "amp_c = 0.0867281\n",
      "h_c = 8.99757e-05\n",
      "\n",
      "Enzyme Concentrations\n",
      "----------------------\n",
      "pfk_R0_c = 1.0817448316365943e-08\n",
      "pfk_R0_A_c = 1.6708761988387294e-07\n",
      "pfk_R0_AF_c = 6.811193326245457e-09\n",
      "pfk_T0_c = 1.1899193148002541e-11\n",
      "pfk_R1_c = 1.137183926456506e-07\n",
      "pfk_R1_A_c = 1.7565080977030933e-06\n",
      "pfk_R1_AF_c = 7.160264920217557e-08\n",
      "pfk_T1_c = 7.615483614721627e-10\n",
      "pfk_R2_c = 4.482990967823295e-07\n",
      "pfk_R2_A_c = 6.924482270381984e-06\n",
      "pfk_R2_AF_c = 2.8227098728505473e-07\n",
      "pfk_T2_c = 1.8277160675331905e-08\n",
      "pfk_R3_c = 7.854571494070211e-07\n",
      "pfk_R3_A_c = 1.2132266480685161e-05\n",
      "pfk_R3_AF_c = 4.94562149744585e-07\n",
      "pfk_T3_c = 1.9495638053687367e-07\n",
      "pfk_R4_c = 5.160697439355081e-07\n",
      "pfk_R4_A_c = 7.971275913359934e-06\n",
      "pfk_R4_AF_c = 3.2494269378229806e-07\n",
      "pfk_T4_c = 7.798255221474947e-07\n"
     ]
    }
   ],
   "source": [
    "# Add the activation, inhibition, and allosteric rate constants\n",
    "for abbrev, value in zip([\"I\", \"ACT\", \"L\"], [1e6, 1e6, 1e6**2]):\n",
    "    # Account for the enzyme prefix if used in the previous function\n",
    "    to_join = (\"kf\", PFK.id, abbrev)\n",
    "    param = \"_\".join(to_join)\n",
    "    parameter_values.update({param: value})\n",
    "    \n",
    "# Substitute values into equations\n",
    "initial_conditions.update({\n",
    "    str(enzyme_module_form): float(sym.simplify(solution.subs(parameter_values)))\n",
    "    for enzyme_module_form, solution in enzyme_solutions.items()})\n",
    "\n",
    "# Set initial conditions\n",
    "for met, concentration in initial_conditions.items():\n",
    "    PFK.metabolites.get_by_id(str(met)).ic = concentration\n",
    "\n",
    "for header, dictlist in zip([\"Ligand\", \"\\nEnzyme\"], [PFK.enzyme_module_ligands, PFK.enzyme_module_forms]):\n",
    "    header += \" Concentrations\"\n",
    "    print(\"\\n\".join([header, \"-\" * len(header)]))\n",
    "    for form in dictlist:\n",
    "        ic = initial_conditions[form.id]\n",
    "        print(\"{0} = {1}\".format(form.id, ic))"
   ]
  },
  {
   "cell_type": "markdown",
   "metadata": {},
   "source": [
    "### Set Parameters"
   ]
  },
  {
   "cell_type": "code",
   "execution_count": 15,
   "metadata": {},
   "outputs": [],
   "source": [
    "# Update based on publication values\n",
    "parameter_values.update({\n",
    "    'kf_PFK': 307000.0,\n",
    "    'kf_PFK_A': 125000.0,\n",
    "    'kf_PFK_F': 505000.0})\n",
    "\n",
    "# Add the custom parameters and values for kf and Keq to model\n",
    "PFK.custom_parameters.update(parameter_values)\n",
    "# PYK_L uses standard reaction parameters and not custom parameters\n",
    "PFK_L = PFK.enzyme_module_reactions.PFK_L\n",
    "PFK_L.kf = PFK.custom_parameters.pop(PFK_L.kf_str)\n",
    "PFK_L.Keq = PFK.custom_parameters.pop(PFK_L.Keq_str)"
   ]
  },
  {
   "cell_type": "markdown",
   "metadata": {},
   "source": [
    "### Units"
   ]
  },
  {
   "cell_type": "code",
   "execution_count": 16,
   "metadata": {},
   "outputs": [],
   "source": [
    "concentration = UnitDefinition(\"mM\", name=\"Millimolar\", list_of_units=[\"millimole\", \"per_litre\"])\n",
    "time = UnitDefinition(\"hr\", name=\"hour\", list_of_units=[\"hour\"])\n",
    "\n",
    "PFK.add_units([concentration, time])"
   ]
  },
  {
   "cell_type": "markdown",
   "metadata": {},
   "source": [
    "## QC model"
   ]
  },
  {
   "cell_type": "code",
   "execution_count": 17,
   "metadata": {},
   "outputs": [
    {
     "name": "stdout",
     "output_type": "stream",
     "text": [
      "╒══════════════════════════════════════════╕\n",
      "│ MODEL ID: PFK                            │\n",
      "│ SIMULATABLE: True                        │\n",
      "│ PARAMETERS NUMERICALY CONSISTENT: True   │\n",
      "╞══════════════════════════════════════════╡\n",
      "╘══════════════════════════════════════════╛\n"
     ]
    }
   ],
   "source": [
    "qcqa_model(PFK, parameters=True, concentrations=True, \n",
    "           fluxes=False, superfluous=True, elemental=True)"
   ]
  },
  {
   "cell_type": "markdown",
   "metadata": {},
   "source": [
    "#### Errors"
   ]
  },
  {
   "cell_type": "code",
   "execution_count": 18,
   "metadata": {},
   "outputs": [
    {
     "name": "stdout",
     "output_type": "stream",
     "text": [
      "Concentration Absolute Error: 4.3974e-12\n"
     ]
    }
   ],
   "source": [
    "print(\"Concentration Absolute Error: {0:.4e}\".format(\n",
    "    abs(PFK.enzyme_concentration_total_error(use_values=True))))"
   ]
  },
  {
   "cell_type": "markdown",
   "metadata": {},
   "source": [
    "### Ordering of internal species and reactions"
   ]
  },
  {
   "cell_type": "code",
   "execution_count": 19,
   "metadata": {},
   "outputs": [],
   "source": [
    "new_metabolite_order = [\n",
    "    'f6p_c', 'fdp_c', 'amp_c', 'adp_c', 'atp_c', 'h_c',\n",
    "    'pfk_R0_c', 'pfk_R0_A_c', 'pfk_R0_AF_c', \n",
    "    'pfk_R1_c', 'pfk_R1_A_c', 'pfk_R1_AF_c', \n",
    "    'pfk_R2_c', 'pfk_R2_A_c', 'pfk_R2_AF_c', \n",
    "    'pfk_R3_c', 'pfk_R3_A_c', 'pfk_R3_AF_c',\n",
    "    'pfk_R4_c', 'pfk_R4_A_c', 'pfk_R4_AF_c',  \n",
    "    'pfk_T0_c','pfk_T1_c', 'pfk_T2_c', 'pfk_T3_c', 'pfk_T4_c']\n",
    "\n",
    "if len(glycolysis.metabolites) == len(new_metabolite_order):\n",
    "    PFK.metabolites = DictList(\n",
    "        PFK.metabolites.get_by_any(new_metabolite_order))\n",
    "\n",
    "if len(PFK.metabolites) == len(new_metabolite_order):\n",
    "    PFK.metabolites = DictList(PFK.metabolites.get_by_any(new_metabolite_order))\n",
    "    \n",
    "new_reaction_order = [\n",
    "    \"PFK_R01\", 'PFK_R02', \"PFK_R03\", \"PFK_R10\", \n",
    "    \"PFK_R11\", \"PFK_R12\", \"PFK_R13\", \"PFK_R20\", \n",
    "    \"PFK_R21\", \"PFK_R22\", \"PFK_R23\", \"PFK_R30\", \n",
    "    \"PFK_R31\", \"PFK_R32\", \"PFK_R33\", \"PFK_R40\", \n",
    "    \"PFK_R41\", \"PFK_R42\", \"PFK_R43\", \"PFK_L\", \n",
    "    \"PFK_T1\", \"PFK_T2\", \"PFK_T3\", \"PFK_T4\"]\n",
    "\n",
    "if len(PFK.reactions) == len(new_reaction_order):\n",
    "    PFK.reactions = DictList(\n",
    "        PFK.reactions.get_by_any(new_reaction_order))"
   ]
  },
  {
   "cell_type": "markdown",
   "metadata": {},
   "source": [
    "## Simulation\n",
    "### Merge model"
   ]
  },
  {
   "cell_type": "code",
   "execution_count": 20,
   "metadata": {},
   "outputs": [
    {
     "name": "stdout",
     "output_type": "stream",
     "text": [
      "Read LP format model from file /var/folders/36/g2np3l0d6t9dyr4rk3tvc8f80000gn/T/tmpg7ylfwny.lp\n",
      "Reading time = 0.00 seconds\n",
      ": 20 rows, 44 columns, 122 nonzeros\n"
     ]
    }
   ],
   "source": [
    "# Merge the EnzymeModule into the MassModel\n",
    "glycolysis_PFK = glycolysis.merge(PFK, inplace=False)\n",
    "# Remove the PFK MassReaction\n",
    "glycolysis_PFK.remove_reactions([\n",
    "    glycolysis_PFK.reactions.get_by_id(\"PFK\")])"
   ]
  },
  {
   "cell_type": "markdown",
   "metadata": {},
   "source": [
    "### Simulate"
   ]
  },
  {
   "cell_type": "code",
   "execution_count": 21,
   "metadata": {},
   "outputs": [
    {
     "name": "stdout",
     "output_type": "stream",
     "text": [
      "Successfully loaded MassModel 'Glycolysis_PFK' into RoadRunner.\n"
     ]
    },
    {
     "data": {
      "image/png": "[encoded data removed]",
      "text/plain": [
       "<Figure size 432x288 with 1 Axes>"
      ]
     },
     "metadata": {
      "needs_background": "light"
     },
     "output_type": "display_data"
    }
   ],
   "source": [
    "# Setup simulation object, ensure model is at steady state\n",
    "sim = Simulation(glycolysis_PFK, verbose=True)\n",
    "\n",
    "sim.find_steady_state(glycolysis_PFK, strategy=\"simulate\",\n",
    "                      update_values=True, tfinal=1e4)\n",
    "# Simulate from 0 to 1000 with 10001 points in the output\n",
    "conc_sol, flux_sol = sim.simulate(glycolysis_PFK,\n",
    "                                  time=(0, 1e3, 1e4 + 1))\n",
    "# Quickly render and display time profiles \n",
    "conc_sol.view_time_profile()"
   ]
  },
  {
   "cell_type": "markdown",
   "metadata": {},
   "source": [
    "## Export"
   ]
  },
  {
   "cell_type": "code",
   "execution_count": 22,
   "metadata": {},
   "outputs": [],
   "source": [
    "json.save_json_model(\n",
    "    mass_model=PFK,\n",
    "    filename=path.realpath(path.join(\"models\", PFK.id + \".json\")))"
   ]
  }
 ],
 "metadata": {
  "kernelspec": {
   "display_name": "Python 3",
   "language": "python",
   "name": "python3"
  },
  "language_info": {
   "codemirror_mode": {
    "name": "ipython",
    "version": 3
   },
   "file_extension": ".py",
   "mimetype": "text/x-python",
   "name": "python",
   "nbconvert_exporter": "python",
   "pygments_lexer": "ipython3",
   "version": "3.7.4"
  }
 },
 "nbformat": 4,
 "nbformat_minor": 2
}
